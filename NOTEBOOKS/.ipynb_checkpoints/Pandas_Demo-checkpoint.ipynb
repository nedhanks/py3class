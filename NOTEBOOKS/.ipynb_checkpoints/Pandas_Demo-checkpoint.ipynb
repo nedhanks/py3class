{
 "cells": [
  {
   "cell_type": "markdown",
   "metadata": {},
   "source": [
    "# Pandas Demo"
   ]
  },
  {
   "cell_type": "markdown",
   "metadata": {},
   "source": [
    "### Standard imports"
   ]
  },
  {
   "cell_type": "code",
   "execution_count": 11,
   "metadata": {
    "collapsed": true
   },
   "outputs": [],
   "source": [
    "import pandas as pd"
   ]
  },
  {
   "cell_type": "markdown",
   "metadata": {},
   "source": [
    "### Reading data into a dataframe"
   ]
  },
  {
   "cell_type": "code",
   "execution_count": 12,
   "metadata": {},
   "outputs": [
    {
     "data": {
      "text/html": [
       "<div>\n",
       "<style>\n",
       "    .dataframe thead tr:only-child th {\n",
       "        text-align: right;\n",
       "    }\n",
       "\n",
       "    .dataframe thead th {\n",
       "        text-align: left;\n",
       "    }\n",
       "\n",
       "    .dataframe tbody tr th {\n",
       "        vertical-align: top;\n",
       "    }\n",
       "</style>\n",
       "<table border=\"1\" class=\"dataframe\">\n",
       "  <thead>\n",
       "    <tr style=\"text-align: right;\">\n",
       "      <th></th>\n",
       "      <th>Airport</th>\n",
       "      <th>2001 Rank</th>\n",
       "      <th>2001 Total</th>\n",
       "      <th>2010 Rank</th>\n",
       "      <th>2010 Total</th>\n",
       "      <th>2011 Rank</th>\n",
       "      <th>Total</th>\n",
       "      <th>Percent change 2001-2011</th>\n",
       "      <th>Percent change 2010-2011</th>\n",
       "    </tr>\n",
       "    <tr>\n",
       "      <th>Code</th>\n",
       "      <th></th>\n",
       "      <th></th>\n",
       "      <th></th>\n",
       "      <th></th>\n",
       "      <th></th>\n",
       "      <th></th>\n",
       "      <th></th>\n",
       "      <th></th>\n",
       "      <th></th>\n",
       "    </tr>\n",
       "  </thead>\n",
       "  <tbody>\n",
       "    <tr>\n",
       "      <th>ATL</th>\n",
       "      <td>Atlanta, GA (Hartsfield-Jackson Atlanta Intern...</td>\n",
       "      <td>1</td>\n",
       "      <td>36384264</td>\n",
       "      <td>1</td>\n",
       "      <td>42655392</td>\n",
       "      <td>1</td>\n",
       "      <td>33034788</td>\n",
       "      <td>-9.2</td>\n",
       "      <td>-22.6</td>\n",
       "    </tr>\n",
       "    <tr>\n",
       "      <th>ORD</th>\n",
       "      <td>Chicago, IL (Chicago O'Hare International)</td>\n",
       "      <td>2</td>\n",
       "      <td>28626694</td>\n",
       "      <td>2</td>\n",
       "      <td>30033313</td>\n",
       "      <td>2</td>\n",
       "      <td>22367052</td>\n",
       "      <td>-21.9</td>\n",
       "      <td>-25.5</td>\n",
       "    </tr>\n",
       "    <tr>\n",
       "      <th>DFW</th>\n",
       "      <td>Dallas, TX (Dallas/Fort Worth International)</td>\n",
       "      <td>3</td>\n",
       "      <td>25198256</td>\n",
       "      <td>3</td>\n",
       "      <td>26785739</td>\n",
       "      <td>3</td>\n",
       "      <td>20430281</td>\n",
       "      <td>-18.9</td>\n",
       "      <td>-23.7</td>\n",
       "    </tr>\n",
       "    <tr>\n",
       "      <th>DEN</th>\n",
       "      <td>Denver, CO (Denver International)</td>\n",
       "      <td>6</td>\n",
       "      <td>16397390</td>\n",
       "      <td>4</td>\n",
       "      <td>24965553</td>\n",
       "      <td>4</td>\n",
       "      <td>19190341</td>\n",
       "      <td>17.0</td>\n",
       "      <td>-23.1</td>\n",
       "    </tr>\n",
       "    <tr>\n",
       "      <th>LAX</th>\n",
       "      <td>Los Angeles, CA (Los Angeles International)</td>\n",
       "      <td>4</td>\n",
       "      <td>22873307</td>\n",
       "      <td>5</td>\n",
       "      <td>22860849</td>\n",
       "      <td>5</td>\n",
       "      <td>18379418</td>\n",
       "      <td>-19.6</td>\n",
       "      <td>-19.6</td>\n",
       "    </tr>\n",
       "  </tbody>\n",
       "</table>\n",
       "</div>"
      ],
      "text/plain": [
       "                                                Airport  2001 Rank  \\\n",
       "Code                                                                 \n",
       "ATL   Atlanta, GA (Hartsfield-Jackson Atlanta Intern...          1   \n",
       "ORD          Chicago, IL (Chicago O'Hare International)          2   \n",
       "DFW        Dallas, TX (Dallas/Fort Worth International)          3   \n",
       "DEN                   Denver, CO (Denver International)          6   \n",
       "LAX         Los Angeles, CA (Los Angeles International)          4   \n",
       "\n",
       "      2001 Total  2010 Rank  2010 Total  2011 Rank     Total  \\\n",
       "Code                                                           \n",
       "ATL     36384264          1    42655392          1  33034788   \n",
       "ORD     28626694          2    30033313          2  22367052   \n",
       "DFW     25198256          3    26785739          3  20430281   \n",
       "DEN     16397390          4    24965553          4  19190341   \n",
       "LAX     22873307          5    22860849          5  18379418   \n",
       "\n",
       "      Percent change 2001-2011  Percent change 2010-2011  \n",
       "Code                                                      \n",
       "ATL                       -9.2                     -22.6  \n",
       "ORD                      -21.9                     -25.5  \n",
       "DFW                      -18.9                     -23.7  \n",
       "DEN                       17.0                     -23.1  \n",
       "LAX                      -19.6                     -19.6  "
      ]
     },
     "execution_count": 12,
     "metadata": {},
     "output_type": "execute_result"
    }
   ],
   "source": [
    "df = pd.read_csv('../DATA/airport_boardings.csv', thousands=',', index_col=1)\n",
    "df.head()"
   ]
  },
  {
   "cell_type": "markdown",
   "metadata": {},
   "source": [
    "### Using .describe() for a data overview"
   ]
  },
  {
   "cell_type": "code",
   "execution_count": 13,
   "metadata": {},
   "outputs": [
    {
     "data": {
      "text/html": [
       "<div>\n",
       "<style>\n",
       "    .dataframe thead tr:only-child th {\n",
       "        text-align: right;\n",
       "    }\n",
       "\n",
       "    .dataframe thead th {\n",
       "        text-align: left;\n",
       "    }\n",
       "\n",
       "    .dataframe tbody tr th {\n",
       "        vertical-align: top;\n",
       "    }\n",
       "</style>\n",
       "<table border=\"1\" class=\"dataframe\">\n",
       "  <thead>\n",
       "    <tr style=\"text-align: right;\">\n",
       "      <th></th>\n",
       "      <th>2001 Rank</th>\n",
       "      <th>2001 Total</th>\n",
       "      <th>2010 Rank</th>\n",
       "      <th>2010 Total</th>\n",
       "      <th>2011 Rank</th>\n",
       "      <th>Total</th>\n",
       "      <th>Percent change 2001-2011</th>\n",
       "      <th>Percent change 2010-2011</th>\n",
       "    </tr>\n",
       "  </thead>\n",
       "  <tbody>\n",
       "    <tr>\n",
       "      <th>count</th>\n",
       "      <td>50.000000</td>\n",
       "      <td>5.000000e+01</td>\n",
       "      <td>50.000000</td>\n",
       "      <td>5.000000e+01</td>\n",
       "      <td>50.00000</td>\n",
       "      <td>5.000000e+01</td>\n",
       "      <td>50.00000</td>\n",
       "      <td>50.000000</td>\n",
       "    </tr>\n",
       "    <tr>\n",
       "      <th>mean</th>\n",
       "      <td>26.460000</td>\n",
       "      <td>9.848488e+06</td>\n",
       "      <td>25.580000</td>\n",
       "      <td>1.116481e+07</td>\n",
       "      <td>25.50000</td>\n",
       "      <td>8.558513e+06</td>\n",
       "      <td>-12.67800</td>\n",
       "      <td>-23.758000</td>\n",
       "    </tr>\n",
       "    <tr>\n",
       "      <th>std</th>\n",
       "      <td>15.761242</td>\n",
       "      <td>7.042127e+06</td>\n",
       "      <td>14.708168</td>\n",
       "      <td>8.211195e+06</td>\n",
       "      <td>14.57738</td>\n",
       "      <td>6.348691e+06</td>\n",
       "      <td>21.79989</td>\n",
       "      <td>2.435963</td>\n",
       "    </tr>\n",
       "    <tr>\n",
       "      <th>min</th>\n",
       "      <td>1.000000</td>\n",
       "      <td>2.503843e+06</td>\n",
       "      <td>1.000000</td>\n",
       "      <td>3.610618e+06</td>\n",
       "      <td>1.00000</td>\n",
       "      <td>2.750105e+06</td>\n",
       "      <td>-65.00000</td>\n",
       "      <td>-32.200000</td>\n",
       "    </tr>\n",
       "    <tr>\n",
       "      <th>25%</th>\n",
       "      <td>13.250000</td>\n",
       "      <td>4.708718e+06</td>\n",
       "      <td>13.250000</td>\n",
       "      <td>4.418210e+06</td>\n",
       "      <td>13.25000</td>\n",
       "      <td>3.300611e+06</td>\n",
       "      <td>-22.42500</td>\n",
       "      <td>-25.275000</td>\n",
       "    </tr>\n",
       "    <tr>\n",
       "      <th>50%</th>\n",
       "      <td>26.500000</td>\n",
       "      <td>7.626439e+06</td>\n",
       "      <td>25.500000</td>\n",
       "      <td>8.550299e+06</td>\n",
       "      <td>25.50000</td>\n",
       "      <td>6.716353e+06</td>\n",
       "      <td>-14.30000</td>\n",
       "      <td>-23.650000</td>\n",
       "    </tr>\n",
       "    <tr>\n",
       "      <th>75%</th>\n",
       "      <td>38.750000</td>\n",
       "      <td>1.282468e+07</td>\n",
       "      <td>37.750000</td>\n",
       "      <td>1.548108e+07</td>\n",
       "      <td>37.75000</td>\n",
       "      <td>1.195822e+07</td>\n",
       "      <td>-4.60000</td>\n",
       "      <td>-22.075000</td>\n",
       "    </tr>\n",
       "    <tr>\n",
       "      <th>max</th>\n",
       "      <td>59.000000</td>\n",
       "      <td>3.638426e+07</td>\n",
       "      <td>51.000000</td>\n",
       "      <td>4.265539e+07</td>\n",
       "      <td>50.00000</td>\n",
       "      <td>3.303479e+07</td>\n",
       "      <td>41.40000</td>\n",
       "      <td>-19.500000</td>\n",
       "    </tr>\n",
       "  </tbody>\n",
       "</table>\n",
       "</div>"
      ],
      "text/plain": [
       "       2001 Rank    2001 Total  2010 Rank    2010 Total  2011 Rank  \\\n",
       "count  50.000000  5.000000e+01  50.000000  5.000000e+01   50.00000   \n",
       "mean   26.460000  9.848488e+06  25.580000  1.116481e+07   25.50000   \n",
       "std    15.761242  7.042127e+06  14.708168  8.211195e+06   14.57738   \n",
       "min     1.000000  2.503843e+06   1.000000  3.610618e+06    1.00000   \n",
       "25%    13.250000  4.708718e+06  13.250000  4.418210e+06   13.25000   \n",
       "50%    26.500000  7.626439e+06  25.500000  8.550299e+06   25.50000   \n",
       "75%    38.750000  1.282468e+07  37.750000  1.548108e+07   37.75000   \n",
       "max    59.000000  3.638426e+07  51.000000  4.265539e+07   50.00000   \n",
       "\n",
       "              Total  Percent change 2001-2011  Percent change 2010-2011  \n",
       "count  5.000000e+01                  50.00000                 50.000000  \n",
       "mean   8.558513e+06                 -12.67800                -23.758000  \n",
       "std    6.348691e+06                  21.79989                  2.435963  \n",
       "min    2.750105e+06                 -65.00000                -32.200000  \n",
       "25%    3.300611e+06                 -22.42500                -25.275000  \n",
       "50%    6.716353e+06                 -14.30000                -23.650000  \n",
       "75%    1.195822e+07                  -4.60000                -22.075000  \n",
       "max    3.303479e+07                  41.40000                -19.500000  "
      ]
     },
     "execution_count": 13,
     "metadata": {},
     "output_type": "execute_result"
    }
   ],
   "source": [
    "df.describe()"
   ]
  },
  {
   "cell_type": "markdown",
   "metadata": {},
   "source": [
    "### using .info() to get data use details"
   ]
  },
  {
   "cell_type": "code",
   "execution_count": 14,
   "metadata": {},
   "outputs": [
    {
     "name": "stdout",
     "output_type": "stream",
     "text": [
      "<class 'pandas.core.frame.DataFrame'>\n",
      "Index: 50 entries, ATL to IND\n",
      "Data columns (total 9 columns):\n",
      "Airport                     50 non-null object\n",
      "2001 Rank                   50 non-null int64\n",
      "2001 Total                  50 non-null int64\n",
      "2010 Rank                   50 non-null int64\n",
      "2010 Total                  50 non-null int64\n",
      "2011 Rank                   50 non-null int64\n",
      " Total                      50 non-null int64\n",
      "Percent change 2001-2011    50 non-null float64\n",
      "Percent change 2010-2011    50 non-null float64\n",
      "dtypes: float64(2), int64(6), object(1)\n",
      "memory usage: 3.9+ KB\n"
     ]
    }
   ],
   "source": [
    "df.info()"
   ]
  },
  {
   "cell_type": "markdown",
   "metadata": {},
   "source": [
    "### Getting real memory use"
   ]
  },
  {
   "cell_type": "code",
   "execution_count": 15,
   "metadata": {},
   "outputs": [
    {
     "name": "stdout",
     "output_type": "stream",
     "text": [
      "<class 'pandas.core.frame.DataFrame'>\n",
      "Index: 50 entries, ATL to IND\n",
      "Data columns (total 9 columns):\n",
      "Airport                     50 non-null object\n",
      "2001 Rank                   50 non-null int64\n",
      "2001 Total                  50 non-null int64\n",
      "2010 Rank                   50 non-null int64\n",
      "2010 Total                  50 non-null int64\n",
      "2011 Rank                   50 non-null int64\n",
      " Total                      50 non-null int64\n",
      "Percent change 2001-2011    50 non-null float64\n",
      "Percent change 2010-2011    50 non-null float64\n",
      "dtypes: float64(2), int64(6), object(1)\n",
      "memory usage: 10.9 KB\n"
     ]
    }
   ],
   "source": [
    "df.info(memory_usage='deep')"
   ]
  },
  {
   "cell_type": "markdown",
   "metadata": {},
   "source": [
    "<!-- TODO: add summarizing columns, pivot, groupby, hierarchical, etc. -->"
   ]
  },
  {
   "cell_type": "markdown",
   "metadata": {
    "collapsed": true
   },
   "source": [
    "#### more to come....\n",
    "<!-- TODO: add summarizing columns/rows, pivot, groupby, multiindexing, boolean masking -->"
   ]
  },
  {
   "cell_type": "code",
   "execution_count": null,
   "metadata": {
    "collapsed": true
   },
   "outputs": [],
   "source": []
  }
 ],
 "metadata": {
  "kernelspec": {
   "display_name": "Python 3",
   "language": "python",
   "name": "python3"
  },
  "language_info": {
   "codemirror_mode": {
    "name": "ipython",
    "version": 3
   },
   "file_extension": ".py",
   "mimetype": "text/x-python",
   "name": "python",
   "nbconvert_exporter": "python",
   "pygments_lexer": "ipython3",
   "version": "3.6.5"
  }
 },
 "nbformat": 4,
 "nbformat_minor": 2
}
