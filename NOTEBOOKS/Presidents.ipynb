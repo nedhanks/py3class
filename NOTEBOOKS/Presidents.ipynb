{
 "cells": [
  {
   "cell_type": "code",
   "execution_count": 1,
   "metadata": {},
   "outputs": [
    {
     "name": "stdout",
     "output_type": "stream",
     "text": [
      "Using matplotlib backend: MacOSX\n",
      "Populating the interactive namespace from numpy and matplotlib\n"
     ]
    },
    {
     "data": {
      "text/html": [
       "<div>\n",
       "<style>\n",
       "    .dataframe thead tr:only-child th {\n",
       "        text-align: right;\n",
       "    }\n",
       "\n",
       "    .dataframe thead th {\n",
       "        text-align: left;\n",
       "    }\n",
       "\n",
       "    .dataframe tbody tr th {\n",
       "        vertical-align: top;\n",
       "    }\n",
       "</style>\n",
       "<table border=\"1\" class=\"dataframe\">\n",
       "  <thead>\n",
       "    <tr style=\"text-align: right;\">\n",
       "      <th></th>\n",
       "      <th>President</th>\n",
       "      <th>Years in office</th>\n",
       "      <th>Year first inaugurated</th>\n",
       "      <th>Age at inauguration</th>\n",
       "      <th>State elected from</th>\n",
       "      <th># of electoral votes</th>\n",
       "      <th># of popular votes</th>\n",
       "      <th>National total votes</th>\n",
       "      <th>Total electoral votes</th>\n",
       "      <th>Rating points</th>\n",
       "      <th>Political Party</th>\n",
       "      <th>Occupation</th>\n",
       "      <th>College</th>\n",
       "      <th>% electoral</th>\n",
       "      <th>% popular</th>\n",
       "    </tr>\n",
       "  </thead>\n",
       "  <tbody>\n",
       "    <tr>\n",
       "      <th>0</th>\n",
       "      <td>George Washington</td>\n",
       "      <td>8</td>\n",
       "      <td>1789</td>\n",
       "      <td>57</td>\n",
       "      <td>Virginia</td>\n",
       "      <td>69</td>\n",
       "      <td>NaN</td>\n",
       "      <td>NaN</td>\n",
       "      <td>69</td>\n",
       "      <td>842.0</td>\n",
       "      <td>None</td>\n",
       "      <td>Planter</td>\n",
       "      <td>None</td>\n",
       "      <td>100.000000</td>\n",
       "      <td>NaN</td>\n",
       "    </tr>\n",
       "    <tr>\n",
       "      <th>1</th>\n",
       "      <td>John Adams</td>\n",
       "      <td>4</td>\n",
       "      <td>1797</td>\n",
       "      <td>61</td>\n",
       "      <td>Massachusetts</td>\n",
       "      <td>132</td>\n",
       "      <td>NaN</td>\n",
       "      <td>NaN</td>\n",
       "      <td>139</td>\n",
       "      <td>598.0</td>\n",
       "      <td>Federalist</td>\n",
       "      <td>Lawyer</td>\n",
       "      <td>Harvard</td>\n",
       "      <td>94.964029</td>\n",
       "      <td>NaN</td>\n",
       "    </tr>\n",
       "    <tr>\n",
       "      <th>2</th>\n",
       "      <td>Thomas Jefferson</td>\n",
       "      <td>8</td>\n",
       "      <td>1801</td>\n",
       "      <td>57</td>\n",
       "      <td>Virginia</td>\n",
       "      <td>73</td>\n",
       "      <td>NaN</td>\n",
       "      <td>NaN</td>\n",
       "      <td>137</td>\n",
       "      <td>711.0</td>\n",
       "      <td>Democratic-Republican</td>\n",
       "      <td>Planter, Lawyer</td>\n",
       "      <td>William and Mary</td>\n",
       "      <td>53.284672</td>\n",
       "      <td>NaN</td>\n",
       "    </tr>\n",
       "    <tr>\n",
       "      <th>3</th>\n",
       "      <td>James Madison</td>\n",
       "      <td>8</td>\n",
       "      <td>1809</td>\n",
       "      <td>57</td>\n",
       "      <td>Virginia</td>\n",
       "      <td>122</td>\n",
       "      <td>NaN</td>\n",
       "      <td>NaN</td>\n",
       "      <td>176</td>\n",
       "      <td>567.0</td>\n",
       "      <td>Democratic-Republican</td>\n",
       "      <td>Lawyer</td>\n",
       "      <td>Princeton</td>\n",
       "      <td>69.318182</td>\n",
       "      <td>NaN</td>\n",
       "    </tr>\n",
       "    <tr>\n",
       "      <th>4</th>\n",
       "      <td>James Monroe</td>\n",
       "      <td>8</td>\n",
       "      <td>1817</td>\n",
       "      <td>58</td>\n",
       "      <td>Virginia</td>\n",
       "      <td>183</td>\n",
       "      <td>NaN</td>\n",
       "      <td>NaN</td>\n",
       "      <td>221</td>\n",
       "      <td>602.0</td>\n",
       "      <td>Democratic-Republican</td>\n",
       "      <td>Lawyer</td>\n",
       "      <td>William and Mary</td>\n",
       "      <td>82.805430</td>\n",
       "      <td>NaN</td>\n",
       "    </tr>\n",
       "  </tbody>\n",
       "</table>\n",
       "</div>"
      ],
      "text/plain": [
       "           President Years in office  Year first inaugurated  \\\n",
       "0  George Washington               8                    1789   \n",
       "1         John Adams               4                    1797   \n",
       "2   Thomas Jefferson               8                    1801   \n",
       "3      James Madison               8                    1809   \n",
       "4       James Monroe               8                    1817   \n",
       "\n",
       "   Age at inauguration State elected from  # of electoral votes  \\\n",
       "0                   57           Virginia                    69   \n",
       "1                   61      Massachusetts                   132   \n",
       "2                   57           Virginia                    73   \n",
       "3                   57           Virginia                   122   \n",
       "4                   58           Virginia                   183   \n",
       "\n",
       "   # of popular votes  National total votes  Total electoral votes  \\\n",
       "0                 NaN                   NaN                     69   \n",
       "1                 NaN                   NaN                    139   \n",
       "2                 NaN                   NaN                    137   \n",
       "3                 NaN                   NaN                    176   \n",
       "4                 NaN                   NaN                    221   \n",
       "\n",
       "   Rating points        Political Party       Occupation           College  \\\n",
       "0          842.0                   None          Planter              None   \n",
       "1          598.0             Federalist           Lawyer           Harvard   \n",
       "2          711.0  Democratic-Republican  Planter, Lawyer  William and Mary   \n",
       "3          567.0  Democratic-Republican           Lawyer         Princeton   \n",
       "4          602.0  Democratic-Republican           Lawyer  William and Mary   \n",
       "\n",
       "   % electoral  % popular  \n",
       "0   100.000000        NaN  \n",
       "1    94.964029        NaN  \n",
       "2    53.284672        NaN  \n",
       "3    69.318182        NaN  \n",
       "4    82.805430        NaN  "
      ]
     },
     "execution_count": 1,
     "metadata": {},
     "output_type": "execute_result"
    }
   ],
   "source": [
    "%pylab\n",
    "%matplotlib inline\n",
    "import pandas as pd\n",
    "df = pd.read_excel('http://qrc.depaul.edu/Excel_Files/Presidents.xls',\n",
    "        na_values=\"NA()\")\n",
    "df.head()"
   ]
  },
  {
   "cell_type": "code",
   "execution_count": 2,
   "metadata": {},
   "outputs": [
    {
     "data": {
      "text/plain": [
       "Republican               14\n",
       "Democrat                 13\n",
       "Democratic-Republican     4\n",
       "Whig                      2\n",
       "Federalist                1\n",
       "None                      1\n",
       "Name: Political Party, dtype: int64"
      ]
     },
     "execution_count": 2,
     "metadata": {},
     "output_type": "execute_result"
    }
   ],
   "source": [
    "%matplotlib inline\n",
    "parties = df['Political Party'].value_counts()\n",
    "parties"
   ]
  },
  {
   "cell_type": "code",
   "execution_count": 3,
   "metadata": {},
   "outputs": [
    {
     "data": {
      "text/plain": [
       "<matplotlib.axes._subplots.AxesSubplot at 0x115c99ac8>"
      ]
     },
     "execution_count": 3,
     "metadata": {},
     "output_type": "execute_result"
    },
    {
     "data": {
      "image/png": "[encoded data removed]",
      "text/plain": [
       "<matplotlib.figure.Figure at 0x10f562278>"
      ]
     },
     "metadata": {},
     "output_type": "display_data"
    }
   ],
   "source": [
    "parties.plot(kind=\"bar\")"
   ]
  },
  {
   "cell_type": "code",
   "execution_count": 4,
   "metadata": {},
   "outputs": [
    {
     "data": {
      "text/plain": [
       "Lawyer             21\n",
       "Soldier             4\n",
       "Businessman         3\n",
       "Planter, Lawyer     1\n",
       "Actor               1\n",
       "Planter             1\n",
       "Editor              1\n",
       "Educator            1\n",
       "Author              1\n",
       "Engineer            1\n",
       "Name: Occupation, dtype: int64"
      ]
     },
     "execution_count": 4,
     "metadata": {},
     "output_type": "execute_result"
    }
   ],
   "source": [
    "occupations = df['Occupation'].value_counts()\n",
    "occupations"
   ]
  },
  {
   "cell_type": "code",
   "execution_count": 5,
   "metadata": {},
   "outputs": [
    {
     "data": {
      "text/plain": [
       "<matplotlib.axes._subplots.AxesSubplot at 0x115d1b198>"
      ]
     },
     "execution_count": 5,
     "metadata": {},
     "output_type": "execute_result"
    },
    {
     "data": {
      "image/png": "[encoded data removed]",
      "text/plain": [
       "<matplotlib.figure.Figure at 0x115f1d4e0>"
      ]
     },
     "metadata": {},
     "output_type": "display_data"
    }
   ],
   "source": [
    "occupations.plot(kind=\"pie\")"
   ]
  },
  {
   "cell_type": "code",
   "execution_count": 6,
   "metadata": {},
   "outputs": [
    {
     "data": {
      "text/plain": [
       "<matplotlib.text.Text at 0x1160c0b00>"
      ]
     },
     "execution_count": 6,
     "metadata": {},
     "output_type": "execute_result"
    },
    {
     "data": {
      "image/png": "[encoded data removed]",
      "text/plain": [
       "<matplotlib.figure.Figure at 0x116092ef0>"
      ]
     },
     "metadata": {},
     "output_type": "display_data"
    }
   ],
   "source": [
    "plt.plot(df['Year first inaugurated'], df['% popular'])\n",
    "plt.title(\"Popular Vote in US Presidential Elections\")\n",
    "plt.xlabel(\"Year Inaugurated\")\n",
    "plt.ylabel(\"% Of Popular Vote\")"
   ]
  },
  {
   "cell_type": "code",
   "execution_count": null,
   "metadata": {
    "collapsed": true
   },
   "outputs": [],
   "source": []
  }
 ],
 "metadata": {
  "kernelspec": {
   "display_name": "Python 3",
   "language": "python",
   "name": "python3"
  },
  "language_info": {
   "codemirror_mode": {
    "name": "ipython",
    "version": 3
   },
   "file_extension": ".py",
   "mimetype": "text/x-python",
   "name": "python",
   "nbconvert_exporter": "python",
   "pygments_lexer": "ipython3",
   "version": "3.6.2"
  }
 },
 "nbformat": 4,
 "nbformat_minor": 1
}
